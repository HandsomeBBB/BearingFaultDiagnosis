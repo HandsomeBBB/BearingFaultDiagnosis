{
 "cells": [
  {
   "cell_type": "code",
   "execution_count": 1,
   "metadata": {},
   "outputs": [],
   "source": [
    "\"\"\"\n",
    "bearing_classification.ipynb\n",
    "Created by ST Chien, 08/20/2019 \n",
    "\"\"\"\n",
    "import numpy as np\n",
    "import pandas as pd\n",
    "import matplotlib.pyplot as plt\n",
    "from sklearn.linear_model import LogisticRegression\n"
   ]
  },
  {
   "cell_type": "code",
   "execution_count": 2,
   "metadata": {},
   "outputs": [],
   "source": [
    "##### PLZ IGNORE AND DONT EXECUTE THIS BLOCK IF UNESSCESSARY #####\n",
    "# The shape of the original data(2048, 8192) proviede by BingHon(or, MatLab) is wrong, \n",
    "# The following code is to correct this error.\n",
    "#trainingDataframe = pd.read_csv(\"../Dataset/data.csv\", header = None)\n",
    "#fixedDataframe = pd.DataFrame(trainingDataframe.values.reshape(2048, 8192))\n",
    "#fixedDataframe.to_csv(\"../Dataset/reshaped_training_data.csv\", index = False)"
   ]
  },
  {
   "cell_type": "code",
   "execution_count": 2,
   "metadata": {},
   "outputs": [
    {
     "data": {
      "text/html": [
       "<div>\n",
       "<style scoped>\n",
       "    .dataframe tbody tr th:only-of-type {\n",
       "        vertical-align: middle;\n",
       "    }\n",
       "\n",
       "    .dataframe tbody tr th {\n",
       "        vertical-align: top;\n",
       "    }\n",
       "\n",
       "    .dataframe thead th {\n",
       "        text-align: right;\n",
       "    }\n",
       "</style>\n",
       "<table border=\"1\" class=\"dataframe\">\n",
       "  <thead>\n",
       "    <tr style=\"text-align: right;\">\n",
       "      <th></th>\n",
       "      <th>0</th>\n",
       "      <th>1</th>\n",
       "      <th>2</th>\n",
       "      <th>3</th>\n",
       "      <th>4</th>\n",
       "      <th>5</th>\n",
       "      <th>6</th>\n",
       "      <th>7</th>\n",
       "      <th>8</th>\n",
       "      <th>9</th>\n",
       "      <th>...</th>\n",
       "      <th>8182</th>\n",
       "      <th>8183</th>\n",
       "      <th>8184</th>\n",
       "      <th>8185</th>\n",
       "      <th>8186</th>\n",
       "      <th>8187</th>\n",
       "      <th>8188</th>\n",
       "      <th>8189</th>\n",
       "      <th>8190</th>\n",
       "      <th>8191</th>\n",
       "    </tr>\n",
       "  </thead>\n",
       "  <tbody>\n",
       "    <tr>\n",
       "      <th>0</th>\n",
       "      <td>-17.624</td>\n",
       "      <td>-22.424</td>\n",
       "      <td>3.176</td>\n",
       "      <td>9.576</td>\n",
       "      <td>-25.624</td>\n",
       "      <td>-11.224</td>\n",
       "      <td>9.576</td>\n",
       "      <td>-78.424</td>\n",
       "      <td>49.576</td>\n",
       "      <td>33.576</td>\n",
       "      <td>...</td>\n",
       "      <td>14.056</td>\n",
       "      <td>94.056</td>\n",
       "      <td>-25.944</td>\n",
       "      <td>-9.9439</td>\n",
       "      <td>-25.944</td>\n",
       "      <td>54.056</td>\n",
       "      <td>30.056</td>\n",
       "      <td>6.0561</td>\n",
       "      <td>6.0561</td>\n",
       "      <td>-105.940</td>\n",
       "    </tr>\n",
       "    <tr>\n",
       "      <th>1</th>\n",
       "      <td>-43.224</td>\n",
       "      <td>-44.824</td>\n",
       "      <td>-11.224</td>\n",
       "      <td>-11.224</td>\n",
       "      <td>-19.224</td>\n",
       "      <td>-41.624</td>\n",
       "      <td>-8.024</td>\n",
       "      <td>39.976</td>\n",
       "      <td>4.776</td>\n",
       "      <td>38.376</td>\n",
       "      <td>...</td>\n",
       "      <td>30.056</td>\n",
       "      <td>134.060</td>\n",
       "      <td>-249.940</td>\n",
       "      <td>14.0560</td>\n",
       "      <td>54.056</td>\n",
       "      <td>-33.944</td>\n",
       "      <td>46.056</td>\n",
       "      <td>-1.9439</td>\n",
       "      <td>-185.9400</td>\n",
       "      <td>-185.940</td>\n",
       "    </tr>\n",
       "    <tr>\n",
       "      <th>2</th>\n",
       "      <td>-6.424</td>\n",
       "      <td>-11.224</td>\n",
       "      <td>-6.424</td>\n",
       "      <td>6.376</td>\n",
       "      <td>95.976</td>\n",
       "      <td>-16.024</td>\n",
       "      <td>6.376</td>\n",
       "      <td>70.376</td>\n",
       "      <td>15.976</td>\n",
       "      <td>41.576</td>\n",
       "      <td>...</td>\n",
       "      <td>22.056</td>\n",
       "      <td>78.056</td>\n",
       "      <td>486.060</td>\n",
       "      <td>30.0560</td>\n",
       "      <td>-25.944</td>\n",
       "      <td>-25.944</td>\n",
       "      <td>30.056</td>\n",
       "      <td>-9.9439</td>\n",
       "      <td>38.0560</td>\n",
       "      <td>-41.944</td>\n",
       "    </tr>\n",
       "    <tr>\n",
       "      <th>3</th>\n",
       "      <td>-3.224</td>\n",
       "      <td>35.176</td>\n",
       "      <td>-32.024</td>\n",
       "      <td>-16.024</td>\n",
       "      <td>-83.224</td>\n",
       "      <td>-11.224</td>\n",
       "      <td>-12.824</td>\n",
       "      <td>30.376</td>\n",
       "      <td>7.976</td>\n",
       "      <td>-33.624</td>\n",
       "      <td>...</td>\n",
       "      <td>-33.944</td>\n",
       "      <td>22.056</td>\n",
       "      <td>-105.940</td>\n",
       "      <td>30.0560</td>\n",
       "      <td>-41.944</td>\n",
       "      <td>62.056</td>\n",
       "      <td>110.060</td>\n",
       "      <td>-33.9440</td>\n",
       "      <td>70.0560</td>\n",
       "      <td>646.060</td>\n",
       "    </tr>\n",
       "    <tr>\n",
       "      <th>4</th>\n",
       "      <td>-28.824</td>\n",
       "      <td>9.576</td>\n",
       "      <td>55.976</td>\n",
       "      <td>31.976</td>\n",
       "      <td>-3.224</td>\n",
       "      <td>-22.424</td>\n",
       "      <td>-43.224</td>\n",
       "      <td>-24.024</td>\n",
       "      <td>-11.224</td>\n",
       "      <td>-40.024</td>\n",
       "      <td>...</td>\n",
       "      <td>-49.944</td>\n",
       "      <td>-41.944</td>\n",
       "      <td>54.056</td>\n",
       "      <td>94.0560</td>\n",
       "      <td>-57.944</td>\n",
       "      <td>30.056</td>\n",
       "      <td>78.056</td>\n",
       "      <td>-81.9440</td>\n",
       "      <td>30.0560</td>\n",
       "      <td>-369.940</td>\n",
       "    </tr>\n",
       "  </tbody>\n",
       "</table>\n",
       "<p>5 rows × 8192 columns</p>\n",
       "</div>"
      ],
      "text/plain": [
       "        0       1       2       3       4       5       6       7       8  \\\n",
       "0 -17.624 -22.424   3.176   9.576 -25.624 -11.224   9.576 -78.424  49.576   \n",
       "1 -43.224 -44.824 -11.224 -11.224 -19.224 -41.624  -8.024  39.976   4.776   \n",
       "2  -6.424 -11.224  -6.424   6.376  95.976 -16.024   6.376  70.376  15.976   \n",
       "3  -3.224  35.176 -32.024 -16.024 -83.224 -11.224 -12.824  30.376   7.976   \n",
       "4 -28.824   9.576  55.976  31.976  -3.224 -22.424 -43.224 -24.024 -11.224   \n",
       "\n",
       "        9  ...    8182     8183     8184     8185    8186    8187     8188  \\\n",
       "0  33.576  ...  14.056   94.056  -25.944  -9.9439 -25.944  54.056   30.056   \n",
       "1  38.376  ...  30.056  134.060 -249.940  14.0560  54.056 -33.944   46.056   \n",
       "2  41.576  ...  22.056   78.056  486.060  30.0560 -25.944 -25.944   30.056   \n",
       "3 -33.624  ... -33.944   22.056 -105.940  30.0560 -41.944  62.056  110.060   \n",
       "4 -40.024  ... -49.944  -41.944   54.056  94.0560 -57.944  30.056   78.056   \n",
       "\n",
       "      8189      8190     8191  \n",
       "0   6.0561    6.0561 -105.940  \n",
       "1  -1.9439 -185.9400 -185.940  \n",
       "2  -9.9439   38.0560  -41.944  \n",
       "3 -33.9440   70.0560  646.060  \n",
       "4 -81.9440   30.0560 -369.940  \n",
       "\n",
       "[5 rows x 8192 columns]"
      ]
     },
     "execution_count": 2,
     "metadata": {},
     "output_type": "execute_result"
    }
   ],
   "source": [
    "# Read the data\n",
    "rawDataframe = pd.read_csv(\"../Dataset/reshaped_training_data.csv\")\n",
    "rawDataframe.head()"
   ]
  },
  {
   "cell_type": "code",
   "execution_count": 3,
   "metadata": {},
   "outputs": [],
   "source": [
    "mean = np.mean(rawDataframe, axis = 1)\n",
    "std = np.std(rawDataframe, axis = 1)\n",
    "# fft = np.fft.fft(rawDataframe, axis = 1)    # Something has gone wrong in fft\n",
    "# fft = np.abs(fft)"
   ]
  },
  {
   "cell_type": "code",
   "execution_count": 4,
   "metadata": {},
   "outputs": [
    {
     "ename": "NameError",
     "evalue": "name 'fft' is not defined",
     "output_type": "error",
     "traceback": [
      "\u001b[0;31m---------------------------------------------------------------------------\u001b[0m",
      "\u001b[0;31mNameError\u001b[0m                                 Traceback (most recent call last)",
      "\u001b[0;32m<ipython-input-4-31057f6327b9>\u001b[0m in \u001b[0;36m<module>\u001b[0;34m()\u001b[0m\n\u001b[1;32m      1\u001b[0m \u001b[0mtrainingDataframe\u001b[0m \u001b[0;34m=\u001b[0m \u001b[0mpd\u001b[0m\u001b[0;34m.\u001b[0m\u001b[0mDataFrame\u001b[0m\u001b[0;34m(\u001b[0m\u001b[0;34m{\u001b[0m\u001b[0;34m\"mean\"\u001b[0m\u001b[0;34m:\u001b[0m \u001b[0mmean\u001b[0m\u001b[0;34m,\u001b[0m \u001b[0;34m\"std\"\u001b[0m\u001b[0;34m:\u001b[0m \u001b[0mstd\u001b[0m\u001b[0;34m}\u001b[0m\u001b[0;34m)\u001b[0m\u001b[0;34m\u001b[0m\u001b[0m\n\u001b[0;32m----> 2\u001b[0;31m \u001b[0mtrainingFFTDataframe\u001b[0m \u001b[0;34m=\u001b[0m \u001b[0mpd\u001b[0m\u001b[0;34m.\u001b[0m\u001b[0mDataFrame\u001b[0m\u001b[0;34m(\u001b[0m\u001b[0mfft\u001b[0m\u001b[0;34m)\u001b[0m\u001b[0;34m\u001b[0m\u001b[0m\n\u001b[0m",
      "\u001b[0;31mNameError\u001b[0m: name 'fft' is not defined"
     ]
    }
   ],
   "source": [
    "trainingDataframe = pd.DataFrame({\"mean\": mean, \"std\": std})\n",
    "trainingFFTDataframe = pd.DataFrame(fft)"
   ]
  },
  {
   "cell_type": "code",
   "execution_count": null,
   "metadata": {},
   "outputs": [],
   "source": [
    "trainingDataframe.head()"
   ]
  },
  {
   "cell_type": "code",
   "execution_count": null,
   "metadata": {},
   "outputs": [],
   "source": [
    "trainingFFTDataframe.describe()"
   ]
  },
  {
   "cell_type": "raw",
   "metadata": {},
   "source": []
  },
  {
   "cell_type": "code",
   "execution_count": null,
   "metadata": {},
   "outputs": [],
   "source": [
    "trainingDataframe.head()"
   ]
  },
  {
   "cell_type": "code",
   "execution_count": null,
   "metadata": {},
   "outputs": [],
   "source": [
    "plt.rcParams[\"figure.figsize\"] = [16,9]\n",
    "plt.plot(np.abs(fft[0]))"
   ]
  },
  {
   "cell_type": "code",
   "execution_count": null,
   "metadata": {},
   "outputs": [],
   "source": [
    "fft = np.abs(fft)"
   ]
  },
  {
   "cell_type": "code",
   "execution_count": null,
   "metadata": {},
   "outputs": [],
   "source": [
    "plt.plot(fft[0])"
   ]
  },
  {
   "cell_type": "code",
   "execution_count": 39,
   "metadata": {},
   "outputs": [
    {
     "data": {
      "text/plain": [
       "(2048, 8192)"
      ]
     },
     "execution_count": 39,
     "metadata": {},
     "output_type": "execute_result"
    }
   ],
   "source": [
    "fft[]"
   ]
  },
  {
   "cell_type": "code",
   "execution_count": null,
   "metadata": {},
   "outputs": [],
   "source": []
  }
 ],
 "metadata": {
  "kernelspec": {
   "display_name": "Python 3",
   "language": "python",
   "name": "python3"
  },
  "language_info": {
   "codemirror_mode": {
    "name": "ipython",
    "version": 3
   },
   "file_extension": ".py",
   "mimetype": "text/x-python",
   "name": "python",
   "nbconvert_exporter": "python",
   "pygments_lexer": "ipython3",
   "version": "3.6.4"
  }
 },
 "nbformat": 4,
 "nbformat_minor": 2
}
