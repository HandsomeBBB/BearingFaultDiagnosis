{
 "cells": [
  {
   "cell_type": "code",
   "execution_count": 1,
   "metadata": {},
   "outputs": [
    {
     "name": "stderr",
     "output_type": "stream",
     "text": [
      "Using TensorFlow backend.\n",
      "/Users/george/tensorflow/lib/python3.6/site-packages/tensorflow/python/framework/dtypes.py:523: FutureWarning: Passing (type, 1) or '1type' as a synonym of type is deprecated; in a future version of numpy, it will be understood as (type, (1,)) / '(1,)type'.\n",
      "  _np_qint8 = np.dtype([(\"qint8\", np.int8, 1)])\n",
      "/Users/george/tensorflow/lib/python3.6/site-packages/tensorflow/python/framework/dtypes.py:524: FutureWarning: Passing (type, 1) or '1type' as a synonym of type is deprecated; in a future version of numpy, it will be understood as (type, (1,)) / '(1,)type'.\n",
      "  _np_quint8 = np.dtype([(\"quint8\", np.uint8, 1)])\n",
      "/Users/george/tensorflow/lib/python3.6/site-packages/tensorflow/python/framework/dtypes.py:525: FutureWarning: Passing (type, 1) or '1type' as a synonym of type is deprecated; in a future version of numpy, it will be understood as (type, (1,)) / '(1,)type'.\n",
      "  _np_qint16 = np.dtype([(\"qint16\", np.int16, 1)])\n",
      "/Users/george/tensorflow/lib/python3.6/site-packages/tensorflow/python/framework/dtypes.py:526: FutureWarning: Passing (type, 1) or '1type' as a synonym of type is deprecated; in a future version of numpy, it will be understood as (type, (1,)) / '(1,)type'.\n",
      "  _np_quint16 = np.dtype([(\"quint16\", np.uint16, 1)])\n",
      "/Users/george/tensorflow/lib/python3.6/site-packages/tensorflow/python/framework/dtypes.py:527: FutureWarning: Passing (type, 1) or '1type' as a synonym of type is deprecated; in a future version of numpy, it will be understood as (type, (1,)) / '(1,)type'.\n",
      "  _np_qint32 = np.dtype([(\"qint32\", np.int32, 1)])\n",
      "/Users/george/tensorflow/lib/python3.6/site-packages/tensorflow/python/framework/dtypes.py:532: FutureWarning: Passing (type, 1) or '1type' as a synonym of type is deprecated; in a future version of numpy, it will be understood as (type, (1,)) / '(1,)type'.\n",
      "  np_resource = np.dtype([(\"resource\", np.ubyte, 1)])\n"
     ]
    }
   ],
   "source": [
    "\"\"\"\n",
    "bearing_nn.ipynb\n",
    "Cerated by ST Chien, 08/22/2019\n",
    "\"\"\"\n",
    "import numpy as np\n",
    "import pandas as pd\n",
    "import keras\n",
    "from matplotlib import pyplot as plt\n",
    "from keras.models import Sequential\n",
    "from keras.layers import Dense\n",
    "from sklearn.utils import shuffle\n",
    "from sklearn.metrics import confusion_matrix\n",
    "from sklearn.utils.multiclass import unique_labels"
   ]
  },
  {
   "cell_type": "code",
   "execution_count": 2,
   "metadata": {},
   "outputs": [],
   "source": [
    "# read the data\n",
    "trainingDataframe = pd.read_csv(\"../Dataset/trainingData_0.csv\")\n",
    "validationDataframe = pd.read_csv(\"../Dataset/validationData_0.csv\")\n",
    "\n",
    "trainingDataframe = shuffle(trainingDataframe)"
   ]
  },
  {
   "cell_type": "code",
   "execution_count": 3,
   "metadata": {},
   "outputs": [
    {
     "data": {
      "text/html": [
       "<div>\n",
       "<style scoped>\n",
       "    .dataframe tbody tr th:only-of-type {\n",
       "        vertical-align: middle;\n",
       "    }\n",
       "\n",
       "    .dataframe tbody tr th {\n",
       "        vertical-align: top;\n",
       "    }\n",
       "\n",
       "    .dataframe thead th {\n",
       "        text-align: right;\n",
       "    }\n",
       "</style>\n",
       "<table border=\"1\" class=\"dataframe\">\n",
       "  <thead>\n",
       "    <tr style=\"text-align: right;\">\n",
       "      <th></th>\n",
       "      <th>Entropy</th>\n",
       "      <th>Variance</th>\n",
       "      <th>RMS</th>\n",
       "      <th>PP</th>\n",
       "      <th>Energy</th>\n",
       "      <th>BSF</th>\n",
       "      <th>BPFI</th>\n",
       "      <th>BPFO</th>\n",
       "      <th>23 Hz</th>\n",
       "      <th>Condition</th>\n",
       "    </tr>\n",
       "  </thead>\n",
       "  <tbody>\n",
       "    <tr>\n",
       "      <th>201</th>\n",
       "      <td>6.4370</td>\n",
       "      <td>1376.6</td>\n",
       "      <td>37.257</td>\n",
       "      <td>620.8</td>\n",
       "      <td>9.320000e+10</td>\n",
       "      <td>0.342160</td>\n",
       "      <td>0.082820</td>\n",
       "      <td>0.048488</td>\n",
       "      <td>0.082820</td>\n",
       "      <td>1</td>\n",
       "    </tr>\n",
       "    <tr>\n",
       "      <th>1331</th>\n",
       "      <td>5.8696</td>\n",
       "      <td>34867.0</td>\n",
       "      <td>186.780</td>\n",
       "      <td>5888.0</td>\n",
       "      <td>2.340000e+12</td>\n",
       "      <td>0.210400</td>\n",
       "      <td>0.205410</td>\n",
       "      <td>0.059398</td>\n",
       "      <td>0.205410</td>\n",
       "      <td>6</td>\n",
       "    </tr>\n",
       "    <tr>\n",
       "      <th>290</th>\n",
       "      <td>6.4713</td>\n",
       "      <td>1742.3</td>\n",
       "      <td>41.739</td>\n",
       "      <td>1091.2</td>\n",
       "      <td>1.170000e+11</td>\n",
       "      <td>0.331020</td>\n",
       "      <td>0.064201</td>\n",
       "      <td>0.082907</td>\n",
       "      <td>0.064201</td>\n",
       "      <td>1</td>\n",
       "    </tr>\n",
       "    <tr>\n",
       "      <th>647</th>\n",
       "      <td>6.5779</td>\n",
       "      <td>1749.3</td>\n",
       "      <td>41.824</td>\n",
       "      <td>513.6</td>\n",
       "      <td>1.170000e+11</td>\n",
       "      <td>0.050644</td>\n",
       "      <td>0.058974</td>\n",
       "      <td>0.331330</td>\n",
       "      <td>0.058974</td>\n",
       "      <td>3</td>\n",
       "    </tr>\n",
       "    <tr>\n",
       "      <th>789</th>\n",
       "      <td>5.6688</td>\n",
       "      <td>17719.0</td>\n",
       "      <td>133.370</td>\n",
       "      <td>3184.0</td>\n",
       "      <td>1.190000e+12</td>\n",
       "      <td>0.325040</td>\n",
       "      <td>0.243950</td>\n",
       "      <td>0.048596</td>\n",
       "      <td>0.243950</td>\n",
       "      <td>4</td>\n",
       "    </tr>\n",
       "  </tbody>\n",
       "</table>\n",
       "</div>"
      ],
      "text/plain": [
       "      Entropy  Variance      RMS      PP        Energy       BSF      BPFI  \\\n",
       "201    6.4370    1376.6   37.257   620.8  9.320000e+10  0.342160  0.082820   \n",
       "1331   5.8696   34867.0  186.780  5888.0  2.340000e+12  0.210400  0.205410   \n",
       "290    6.4713    1742.3   41.739  1091.2  1.170000e+11  0.331020  0.064201   \n",
       "647    6.5779    1749.3   41.824   513.6  1.170000e+11  0.050644  0.058974   \n",
       "789    5.6688   17719.0  133.370  3184.0  1.190000e+12  0.325040  0.243950   \n",
       "\n",
       "          BPFO     23 Hz  Condition  \n",
       "201   0.048488  0.082820          1  \n",
       "1331  0.059398  0.205410          6  \n",
       "290   0.082907  0.064201          1  \n",
       "647   0.331330  0.058974          3  \n",
       "789   0.048596  0.243950          4  "
      ]
     },
     "execution_count": 3,
     "metadata": {},
     "output_type": "execute_result"
    }
   ],
   "source": [
    "# have a peek of the data\n",
    "trainingDataframe.head()\n",
    "#validationDataframe.describe()"
   ]
  },
  {
   "cell_type": "code",
   "execution_count": 4,
   "metadata": {},
   "outputs": [],
   "source": [
    "def normalize(dataframe):\n",
    "    result = dataframe.copy()\n",
    "    for feature_name in dataframe.columns:\n",
    "        max_value = dataframe[feature_name].max()\n",
    "        min_value = dataframe[feature_name].min()\n",
    "        result[feature_name] = (dataframe[feature_name] - min_value) / (max_value - min_value)\n",
    "    return result"
   ]
  },
  {
   "cell_type": "code",
   "execution_count": 5,
   "metadata": {},
   "outputs": [],
   "source": [
    "# convert the Y data to fit the model\n",
    "def convertConditionNumberToLabel(conditionColumn):\n",
    "    label = np.zeros((len(conditionColumn), 8))\n",
    "    for i in range(len(conditionColumn)):\n",
    "        label[i, conditionColumn[i]] = 1\n",
    "\n",
    "    return label"
   ]
  },
  {
   "cell_type": "code",
   "execution_count": 6,
   "metadata": {},
   "outputs": [],
   "source": [
    "# speprate label and feature\n",
    "# I cheated :) using the validation data as test\n",
    "trainX = normalize(trainingDataframe[[\"Entropy\", \"Variance\", \"RMS\", \"PP\", \"Energy\", \"BSF\", \"BPFI\", \"BPFO\"]]).values\n",
    "testX = normalize(validationDataframe[[\"Entropy\", \"Variance\", \"RMS\", \"PP\", \"Energy\", \"BSF\", \"BPFI\", \"BPFO\"]]).values\n",
    "\n",
    "trainY = convertConditionNumberToLabel(trainingDataframe[\"Condition\"].values)\n",
    "testY = convertConditionNumberToLabel(validationDataframe[\"Condition\"].values)"
   ]
  },
  {
   "cell_type": "code",
   "execution_count": 7,
   "metadata": {},
   "outputs": [],
   "source": [
    "# training parameters\n",
    "sampleN = 1536\n",
    "batch_size = 100\n",
    "nb_epoch = 100\n",
    "\n",
    "learning_rate = 0.1"
   ]
  },
  {
   "cell_type": "code",
   "execution_count": 8,
   "metadata": {},
   "outputs": [],
   "source": [
    "# build the model\n",
    "model = Sequential()\n",
    "model.add(Dense(9, activation = \"relu\"))\n",
    "model.add(Dense(10, activation = \"relu\"))\n",
    "model.add(Dense(15, activation = \"relu\"))\n",
    "model.add(Dense(10, activation = \"relu\"))\n",
    "model.add(Dense(8, activation = \"softmax\"))\n",
    "\n",
    "# stochastic gradient descent optimizer \n",
    "sgd_opt = keras.optimizers.SGD(lr = learning_rate)\n",
    "model.compile(loss = \"categorical_crossentropy\", optimizer = sgd_opt, metrics = ['accuracy'])"
   ]
  },
  {
   "cell_type": "code",
   "execution_count": 9,
   "metadata": {},
   "outputs": [
    {
     "name": "stdout",
     "output_type": "stream",
     "text": [
      "Train on 1382 samples, validate on 154 samples\n",
      "Epoch 1/100\n",
      "1382/1382 [==============================] - 0s 305us/step - loss: 2.0715 - acc: 0.1512 - val_loss: 2.0384 - val_acc: 0.3182\n",
      "Epoch 2/100\n",
      "1382/1382 [==============================] - 0s 22us/step - loss: 2.0190 - acc: 0.2540 - val_loss: 1.9898 - val_acc: 0.4221\n",
      "Epoch 3/100\n",
      "1382/1382 [==============================] - 0s 23us/step - loss: 1.9462 - acc: 0.2815 - val_loss: 1.9085 - val_acc: 0.4675\n",
      "Epoch 4/100\n",
      "1382/1382 [==============================] - 0s 26us/step - loss: 1.8271 - acc: 0.3654 - val_loss: 1.7934 - val_acc: 0.3052\n",
      "Epoch 5/100\n",
      "1382/1382 [==============================] - 0s 24us/step - loss: 1.6788 - acc: 0.4009 - val_loss: 1.6641 - val_acc: 0.2468\n",
      "Epoch 6/100\n",
      "1382/1382 [==============================] - 0s 37us/step - loss: 1.5230 - acc: 0.4334 - val_loss: 1.5033 - val_acc: 0.3961\n",
      "Epoch 7/100\n",
      "1382/1382 [==============================] - 0s 34us/step - loss: 1.3543 - acc: 0.4667 - val_loss: 1.3286 - val_acc: 0.3766\n",
      "Epoch 8/100\n",
      "1382/1382 [==============================] - 0s 35us/step - loss: 1.1684 - acc: 0.5738 - val_loss: 1.1323 - val_acc: 0.6039\n",
      "Epoch 9/100\n",
      "1382/1382 [==============================] - 0s 33us/step - loss: 1.0308 - acc: 0.7192 - val_loss: 0.8876 - val_acc: 0.9675\n",
      "Epoch 10/100\n",
      "1382/1382 [==============================] - 0s 31us/step - loss: 0.7960 - acc: 0.8893 - val_loss: 0.6234 - val_acc: 0.9740\n",
      "Epoch 11/100\n",
      "1382/1382 [==============================] - 0s 27us/step - loss: 0.7220 - acc: 0.8082 - val_loss: 0.5637 - val_acc: 0.9026\n",
      "Epoch 12/100\n",
      "1382/1382 [==============================] - 0s 44us/step - loss: 0.5389 - acc: 0.8821 - val_loss: 1.8926 - val_acc: 0.5519\n",
      "Epoch 13/100\n",
      "1382/1382 [==============================] - 0s 30us/step - loss: 0.9012 - acc: 0.8567 - val_loss: 0.2759 - val_acc: 0.9870\n",
      "Epoch 14/100\n",
      "1382/1382 [==============================] - 0s 31us/step - loss: 0.2184 - acc: 0.9891 - val_loss: 0.2518 - val_acc: 0.9545\n",
      "Epoch 15/100\n",
      "1382/1382 [==============================] - 0s 29us/step - loss: 0.7087 - acc: 0.7786 - val_loss: 0.6787 - val_acc: 0.7013\n",
      "Epoch 16/100\n",
      "1382/1382 [==============================] - 0s 39us/step - loss: 0.2092 - acc: 0.9479 - val_loss: 0.1116 - val_acc: 0.9935\n",
      "Epoch 17/100\n",
      "1382/1382 [==============================] - 0s 44us/step - loss: 0.0890 - acc: 0.9942 - val_loss: 0.1027 - val_acc: 0.9740\n",
      "Epoch 18/100\n",
      "1382/1382 [==============================] - 0s 37us/step - loss: 0.0740 - acc: 0.9913 - val_loss: 0.0610 - val_acc: 0.9935\n",
      "Epoch 19/100\n",
      "1382/1382 [==============================] - 0s 54us/step - loss: 0.0534 - acc: 0.9957 - val_loss: 0.0740 - val_acc: 0.9740\n",
      "Epoch 20/100\n",
      "1382/1382 [==============================] - 0s 62us/step - loss: 0.2560 - acc: 0.9197 - val_loss: 0.0888 - val_acc: 0.9675\n",
      "Epoch 21/100\n",
      "1382/1382 [==============================] - 0s 39us/step - loss: 0.0415 - acc: 0.9978 - val_loss: 0.0654 - val_acc: 0.9870\n",
      "Epoch 22/100\n",
      "1382/1382 [==============================] - 0s 53us/step - loss: 0.0355 - acc: 0.9957 - val_loss: 0.0354 - val_acc: 0.9935\n",
      "Epoch 23/100\n",
      "1382/1382 [==============================] - 0s 58us/step - loss: 0.0303 - acc: 0.9971 - val_loss: 0.0443 - val_acc: 0.9805\n",
      "Epoch 24/100\n",
      "1382/1382 [==============================] - 0s 36us/step - loss: 0.0255 - acc: 0.9993 - val_loss: 0.0273 - val_acc: 0.9935\n",
      "Epoch 25/100\n",
      "1382/1382 [==============================] - 0s 38us/step - loss: 0.0237 - acc: 0.9986 - val_loss: 0.0249 - val_acc: 0.9935\n",
      "Epoch 26/100\n",
      "1382/1382 [==============================] - 0s 41us/step - loss: 0.0209 - acc: 0.9978 - val_loss: 0.0244 - val_acc: 0.9935\n",
      "Epoch 27/100\n",
      "1382/1382 [==============================] - 0s 41us/step - loss: 0.0208 - acc: 0.9964 - val_loss: 0.0211 - val_acc: 0.9935\n",
      "Epoch 28/100\n",
      "1382/1382 [==============================] - 0s 61us/step - loss: 0.0185 - acc: 0.9978 - val_loss: 0.0397 - val_acc: 0.9870\n",
      "Epoch 29/100\n",
      "1382/1382 [==============================] - 0s 61us/step - loss: 0.0163 - acc: 0.9993 - val_loss: 0.0269 - val_acc: 0.9935\n",
      "Epoch 30/100\n",
      "1382/1382 [==============================] - 0s 35us/step - loss: 0.0175 - acc: 0.9971 - val_loss: 0.0187 - val_acc: 0.9935\n",
      "Epoch 31/100\n",
      "1382/1382 [==============================] - 0s 40us/step - loss: 0.0151 - acc: 0.9993 - val_loss: 0.0769 - val_acc: 0.9675\n",
      "Epoch 32/100\n",
      "1382/1382 [==============================] - 0s 37us/step - loss: 0.0157 - acc: 0.9986 - val_loss: 0.0295 - val_acc: 0.9935\n",
      "Epoch 33/100\n",
      "1382/1382 [==============================] - 0s 47us/step - loss: 0.0171 - acc: 0.9964 - val_loss: 0.0203 - val_acc: 0.9935\n",
      "Epoch 34/100\n",
      "1382/1382 [==============================] - 0s 45us/step - loss: 0.0143 - acc: 0.9971 - val_loss: 0.0215 - val_acc: 0.9935\n",
      "Epoch 35/100\n",
      "1382/1382 [==============================] - 0s 54us/step - loss: 0.0136 - acc: 0.9978 - val_loss: 0.0202 - val_acc: 0.9935\n",
      "Epoch 36/100\n",
      "1382/1382 [==============================] - 0s 51us/step - loss: 0.0154 - acc: 0.9971 - val_loss: 0.0233 - val_acc: 0.9935\n",
      "Epoch 37/100\n",
      "1382/1382 [==============================] - 0s 35us/step - loss: 0.0141 - acc: 0.9978 - val_loss: 0.0396 - val_acc: 0.9870\n",
      "Epoch 38/100\n",
      "1382/1382 [==============================] - 0s 33us/step - loss: 0.0108 - acc: 0.9993 - val_loss: 0.0173 - val_acc: 0.9935\n",
      "Epoch 39/100\n",
      "1382/1382 [==============================] - 0s 25us/step - loss: 0.0106 - acc: 0.9986 - val_loss: 0.0253 - val_acc: 0.9870\n",
      "Epoch 40/100\n",
      "1382/1382 [==============================] - 0s 52us/step - loss: 0.0094 - acc: 0.9993 - val_loss: 0.0231 - val_acc: 0.9935\n",
      "Epoch 41/100\n",
      "1382/1382 [==============================] - 0s 57us/step - loss: 0.0109 - acc: 0.9986 - val_loss: 0.0204 - val_acc: 0.9935\n",
      "Epoch 42/100\n",
      "1382/1382 [==============================] - 0s 41us/step - loss: 0.0112 - acc: 0.9978 - val_loss: 0.0216 - val_acc: 0.9935\n",
      "Epoch 43/100\n",
      "1382/1382 [==============================] - 0s 59us/step - loss: 0.0146 - acc: 0.9957 - val_loss: 0.0159 - val_acc: 0.9935\n",
      "Epoch 44/100\n",
      "1382/1382 [==============================] - 0s 57us/step - loss: 0.0086 - acc: 0.9993 - val_loss: 0.0860 - val_acc: 0.9675\n",
      "Epoch 45/100\n",
      "1382/1382 [==============================] - 0s 50us/step - loss: 0.0119 - acc: 0.9986 - val_loss: 0.0111 - val_acc: 1.0000\n",
      "Epoch 46/100\n",
      "1382/1382 [==============================] - 0s 42us/step - loss: 0.0092 - acc: 0.9986 - val_loss: 0.0097 - val_acc: 1.0000\n",
      "Epoch 47/100\n",
      "1382/1382 [==============================] - 0s 39us/step - loss: 0.0104 - acc: 0.9986 - val_loss: 0.0134 - val_acc: 0.9935\n",
      "Epoch 48/100\n",
      "1382/1382 [==============================] - 0s 45us/step - loss: 0.0077 - acc: 0.9986 - val_loss: 0.0345 - val_acc: 0.9870\n",
      "Epoch 49/100\n",
      "1382/1382 [==============================] - 0s 54us/step - loss: 0.0089 - acc: 0.9986 - val_loss: 0.0202 - val_acc: 0.9935\n",
      "Epoch 50/100\n",
      "1382/1382 [==============================] - 0s 80us/step - loss: 0.0083 - acc: 0.9993 - val_loss: 0.0114 - val_acc: 1.0000\n",
      "Epoch 51/100\n",
      "1382/1382 [==============================] - 0s 31us/step - loss: 0.0089 - acc: 0.9986 - val_loss: 0.0147 - val_acc: 0.9935\n",
      "Epoch 52/100\n",
      "1382/1382 [==============================] - 0s 32us/step - loss: 0.0069 - acc: 0.9993 - val_loss: 0.0107 - val_acc: 0.9935\n",
      "Epoch 53/100\n",
      "1382/1382 [==============================] - 0s 31us/step - loss: 0.0094 - acc: 0.9978 - val_loss: 0.0187 - val_acc: 0.9935\n",
      "Epoch 54/100\n",
      "1382/1382 [==============================] - 0s 33us/step - loss: 0.0073 - acc: 0.9993 - val_loss: 0.0346 - val_acc: 0.9870\n",
      "Epoch 55/100\n",
      "1382/1382 [==============================] - 0s 33us/step - loss: 0.0083 - acc: 0.9993 - val_loss: 0.0120 - val_acc: 0.9935\n",
      "Epoch 56/100\n",
      "1382/1382 [==============================] - 0s 26us/step - loss: 0.0067 - acc: 0.9993 - val_loss: 0.0303 - val_acc: 0.9870\n",
      "Epoch 57/100\n",
      "1382/1382 [==============================] - 0s 34us/step - loss: 0.0056 - acc: 0.9993 - val_loss: 0.0080 - val_acc: 1.0000\n",
      "Epoch 58/100\n",
      "1382/1382 [==============================] - 0s 31us/step - loss: 0.0079 - acc: 0.9978 - val_loss: 0.0258 - val_acc: 0.9935\n",
      "Epoch 59/100\n",
      "1382/1382 [==============================] - 0s 37us/step - loss: 0.0098 - acc: 0.9986 - val_loss: 0.0125 - val_acc: 0.9935\n",
      "Epoch 60/100\n"
     ]
    },
    {
     "name": "stdout",
     "output_type": "stream",
     "text": [
      "1382/1382 [==============================] - 0s 25us/step - loss: 0.0059 - acc: 0.9993 - val_loss: 0.0104 - val_acc: 0.9935\n",
      "Epoch 61/100\n",
      "1382/1382 [==============================] - 0s 28us/step - loss: 0.0062 - acc: 0.9993 - val_loss: 0.0121 - val_acc: 0.9935\n",
      "Epoch 62/100\n",
      "1382/1382 [==============================] - 0s 29us/step - loss: 0.0060 - acc: 0.9986 - val_loss: 0.0175 - val_acc: 0.9935\n",
      "Epoch 63/100\n",
      "1382/1382 [==============================] - 0s 27us/step - loss: 0.0060 - acc: 0.9993 - val_loss: 0.0110 - val_acc: 0.9935\n",
      "Epoch 64/100\n",
      "1382/1382 [==============================] - 0s 34us/step - loss: 0.0050 - acc: 0.9993 - val_loss: 0.0136 - val_acc: 0.9935\n",
      "Epoch 65/100\n",
      "1382/1382 [==============================] - 0s 31us/step - loss: 0.0060 - acc: 0.9993 - val_loss: 0.0076 - val_acc: 1.0000\n",
      "Epoch 66/100\n",
      "1382/1382 [==============================] - 0s 26us/step - loss: 0.0080 - acc: 0.9971 - val_loss: 0.0084 - val_acc: 0.9935\n",
      "Epoch 67/100\n",
      "1382/1382 [==============================] - 0s 24us/step - loss: 0.0052 - acc: 0.9993 - val_loss: 0.0453 - val_acc: 0.9870\n",
      "Epoch 68/100\n",
      "1382/1382 [==============================] - 0s 26us/step - loss: 0.0045 - acc: 0.9993 - val_loss: 0.0090 - val_acc: 0.9935\n",
      "Epoch 69/100\n",
      "1382/1382 [==============================] - 0s 23us/step - loss: 0.0069 - acc: 0.9986 - val_loss: 0.0104 - val_acc: 0.9935\n",
      "Epoch 70/100\n",
      "1382/1382 [==============================] - 0s 25us/step - loss: 0.0060 - acc: 0.9986 - val_loss: 0.0101 - val_acc: 0.9935\n",
      "Epoch 71/100\n",
      "1382/1382 [==============================] - 0s 25us/step - loss: 0.0055 - acc: 0.9993 - val_loss: 0.0102 - val_acc: 0.9935\n",
      "Epoch 72/100\n",
      "1382/1382 [==============================] - 0s 33us/step - loss: 0.0088 - acc: 0.9971 - val_loss: 0.0078 - val_acc: 1.0000\n",
      "Epoch 73/100\n",
      "1382/1382 [==============================] - 0s 34us/step - loss: 0.0066 - acc: 0.9986 - val_loss: 0.0111 - val_acc: 0.9935\n",
      "Epoch 74/100\n",
      "1382/1382 [==============================] - 0s 31us/step - loss: 0.0052 - acc: 0.9986 - val_loss: 0.0083 - val_acc: 0.9935\n",
      "Epoch 75/100\n",
      "1382/1382 [==============================] - 0s 36us/step - loss: 0.0061 - acc: 0.9986 - val_loss: 0.0051 - val_acc: 1.0000\n",
      "Epoch 76/100\n",
      "1382/1382 [==============================] - 0s 34us/step - loss: 0.0068 - acc: 0.9986 - val_loss: 0.0100 - val_acc: 0.9935\n",
      "Epoch 77/100\n",
      "1382/1382 [==============================] - 0s 40us/step - loss: 0.0060 - acc: 0.9986 - val_loss: 0.0063 - val_acc: 1.0000\n",
      "Epoch 78/100\n",
      "1382/1382 [==============================] - 0s 34us/step - loss: 0.0053 - acc: 0.9993 - val_loss: 0.0102 - val_acc: 0.9935\n",
      "Epoch 79/100\n",
      "1382/1382 [==============================] - 0s 34us/step - loss: 0.0039 - acc: 0.9993 - val_loss: 0.0347 - val_acc: 0.9870\n",
      "Epoch 80/100\n",
      "1382/1382 [==============================] - 0s 36us/step - loss: 0.0042 - acc: 0.9993 - val_loss: 0.0123 - val_acc: 0.9935\n",
      "Epoch 81/100\n",
      "1382/1382 [==============================] - 0s 37us/step - loss: 0.0108 - acc: 0.9957 - val_loss: 0.0128 - val_acc: 0.9935\n",
      "Epoch 82/100\n",
      "1382/1382 [==============================] - 0s 31us/step - loss: 0.0061 - acc: 0.9978 - val_loss: 0.0120 - val_acc: 0.9935\n",
      "Epoch 83/100\n",
      "1382/1382 [==============================] - 0s 37us/step - loss: 0.0071 - acc: 0.9978 - val_loss: 0.0134 - val_acc: 0.9935\n",
      "Epoch 84/100\n",
      "1382/1382 [==============================] - 0s 48us/step - loss: 0.0050 - acc: 0.9986 - val_loss: 0.0086 - val_acc: 0.9935\n",
      "Epoch 85/100\n",
      "1382/1382 [==============================] - 0s 37us/step - loss: 0.0058 - acc: 0.9986 - val_loss: 0.0102 - val_acc: 0.9935\n",
      "Epoch 86/100\n",
      "1382/1382 [==============================] - 0s 41us/step - loss: 0.0045 - acc: 0.9993 - val_loss: 0.0067 - val_acc: 1.0000\n",
      "Epoch 87/100\n",
      "1382/1382 [==============================] - 0s 44us/step - loss: 0.0067 - acc: 0.9978 - val_loss: 0.0087 - val_acc: 0.9935\n",
      "Epoch 88/100\n",
      "1382/1382 [==============================] - 0s 37us/step - loss: 0.0043 - acc: 0.9993 - val_loss: 0.0074 - val_acc: 1.0000\n",
      "Epoch 89/100\n",
      "1382/1382 [==============================] - 0s 39us/step - loss: 0.0048 - acc: 0.9986 - val_loss: 0.0071 - val_acc: 0.9935\n",
      "Epoch 90/100\n",
      "1382/1382 [==============================] - 0s 32us/step - loss: 0.0054 - acc: 0.9986 - val_loss: 0.0110 - val_acc: 0.9935\n",
      "Epoch 91/100\n",
      "1382/1382 [==============================] - 0s 39us/step - loss: 0.0045 - acc: 0.9993 - val_loss: 0.0197 - val_acc: 0.9935\n",
      "Epoch 92/100\n",
      "1382/1382 [==============================] - 0s 36us/step - loss: 0.0046 - acc: 0.9993 - val_loss: 0.0079 - val_acc: 1.0000\n",
      "Epoch 93/100\n",
      "1382/1382 [==============================] - 0s 54us/step - loss: 0.0051 - acc: 0.9986 - val_loss: 0.0074 - val_acc: 0.9935\n",
      "Epoch 94/100\n",
      "1382/1382 [==============================] - 0s 42us/step - loss: 0.0038 - acc: 0.9993 - val_loss: 0.0157 - val_acc: 0.9935\n",
      "Epoch 95/100\n",
      "1382/1382 [==============================] - 0s 53us/step - loss: 0.0045 - acc: 0.9986 - val_loss: 0.0066 - val_acc: 1.0000\n",
      "Epoch 96/100\n",
      "1382/1382 [==============================] - 0s 39us/step - loss: 0.0037 - acc: 0.9993 - val_loss: 0.0233 - val_acc: 0.9935\n",
      "Epoch 97/100\n",
      "1382/1382 [==============================] - 0s 44us/step - loss: 0.0075 - acc: 0.9978 - val_loss: 0.0083 - val_acc: 0.9935\n",
      "Epoch 98/100\n",
      "1382/1382 [==============================] - 0s 54us/step - loss: 0.0055 - acc: 0.9986 - val_loss: 0.0049 - val_acc: 1.0000\n",
      "Epoch 99/100\n",
      "1382/1382 [==============================] - 0s 62us/step - loss: 0.0069 - acc: 0.9971 - val_loss: 0.0067 - val_acc: 1.0000\n",
      "Epoch 100/100\n",
      "1382/1382 [==============================] - 0s 77us/step - loss: 0.0041 - acc: 0.9993 - val_loss: 0.0059 - val_acc: 1.0000\n"
     ]
    }
   ],
   "source": [
    "# train the model\n",
    "log = model.fit(trainX, trainY,\n",
    "                epochs = nb_epoch,\n",
    "                batch_size = batch_size,\n",
    "                verbose = 1,\n",
    "                validation_split = 0.1)"
   ]
  },
  {
   "cell_type": "code",
   "execution_count": 10,
   "metadata": {},
   "outputs": [
    {
     "name": "stdout",
     "output_type": "stream",
     "text": [
      "Test accuracy: 0.9628906254656613\n"
     ]
    }
   ],
   "source": [
    "score = model.evaluate(testX, testY, batch_size = batch_size, verbose = 0)\n",
    "print(\"Test accuracy:\", score[1])\n",
    "# Test accuracy 0: 0.9902343843132257\n",
    "# Test accuracy 1: 0.9960937537252903\n",
    "# Test accuracy 2: 1.0\n",
    "# Test accuracy 3: 0.9980468768626451"
   ]
  },
  {
   "cell_type": "code",
   "execution_count": 11,
   "metadata": {},
   "outputs": [
    {
     "data": {
      "text/plain": [
       "<matplotlib.legend.Legend at 0x1312210f0>"
      ]
     },
     "execution_count": 11,
     "metadata": {},
     "output_type": "execute_result"
    },
    {
     "data": {
      "image/png": "[encoded data removed]",
      "text/plain": [
       "<Figure size 432x288 with 1 Axes>"
      ]
     },
     "metadata": {
      "needs_background": "light"
     },
     "output_type": "display_data"
    }
   ],
   "source": [
    "plt.plot(log.history['acc'])\n",
    "plt.plot(log.history['val_acc'])\n",
    "plt.title('Model accuracy')\n",
    "plt.ylabel('Accuracy')\n",
    "plt.xlabel('Epoch')\n",
    "plt.legend(['Train', 'Val'], loc='lower right')"
   ]
  },
  {
   "cell_type": "code",
   "execution_count": 12,
   "metadata": {},
   "outputs": [
    {
     "data": {
      "text/plain": [
       "<matplotlib.legend.Legend at 0x130a45e10>"
      ]
     },
     "execution_count": 12,
     "metadata": {},
     "output_type": "execute_result"
    },
    {
     "data": {
      "image/png": "[encoded data removed]",
      "text/plain": [
       "<Figure size 432x288 with 1 Axes>"
      ]
     },
     "metadata": {
      "needs_background": "light"
     },
     "output_type": "display_data"
    }
   ],
   "source": [
    "plt.plot(log.history['loss'])\n",
    "plt.plot(log.history['val_loss'])\n",
    "plt.title('Model loss')\n",
    "plt.ylabel('Loss')\n",
    "plt.xlabel('Epoch')\n",
    "plt.legend(['Train', 'Val'], loc='upper right')"
   ]
  },
  {
   "cell_type": "code",
   "execution_count": 13,
   "metadata": {},
   "outputs": [],
   "source": [
    "from keras.utils import plot_model\n",
    "plot_model(model, show_shapes=True, to_file='model.png')"
   ]
  },
  {
   "cell_type": "code",
   "execution_count": 14,
   "metadata": {},
   "outputs": [],
   "source": [
    "# get the weight of the model\n",
    "w0 = model.layers[0].get_weights()[0]\n",
    "w1 = model.layers[1].get_weights()[0]\n",
    "w2 = model.layers[2].get_weights()[0]\n",
    "w3 = model.layers[3].get_weights()[0]\n",
    "w4 = model.layers[4].get_weights()[0]\n",
    "w12 = np.matmul(w1, w2)\n",
    "w34 = np.matmul(w3, w4)\n",
    "w02 = np.matmul(w0, w12)\n",
    "weight = np.matmul(w02, w34)"
   ]
  },
  {
   "cell_type": "code",
   "execution_count": 15,
   "metadata": {},
   "outputs": [],
   "source": [
    "for row in weight:\n",
    "    for i, num in enumerate(row):\n",
    "        row[i] = max(0, num)"
   ]
  },
  {
   "cell_type": "code",
   "execution_count": 16,
   "metadata": {},
   "outputs": [],
   "source": [
    "weight = weight.reshape(8, 8)\n",
    "y = pd.DataFrame(weight)\n",
    "y.columns = trainingDataframe.columns[:8]"
   ]
  },
  {
   "cell_type": "code",
   "execution_count": 17,
   "metadata": {},
   "outputs": [],
   "source": [
    "y.to_csv(\"weight_relu.csv\")"
   ]
  },
  {
   "cell_type": "code",
   "execution_count": 18,
   "metadata": {},
   "outputs": [
    {
     "data": {
      "text/html": [
       "<div>\n",
       "<style scoped>\n",
       "    .dataframe tbody tr th:only-of-type {\n",
       "        vertical-align: middle;\n",
       "    }\n",
       "\n",
       "    .dataframe tbody tr th {\n",
       "        vertical-align: top;\n",
       "    }\n",
       "\n",
       "    .dataframe thead th {\n",
       "        text-align: right;\n",
       "    }\n",
       "</style>\n",
       "<table border=\"1\" class=\"dataframe\">\n",
       "  <thead>\n",
       "    <tr style=\"text-align: right;\">\n",
       "      <th></th>\n",
       "      <th>Entropy</th>\n",
       "      <th>Variance</th>\n",
       "      <th>RMS</th>\n",
       "      <th>PP</th>\n",
       "      <th>Energy</th>\n",
       "      <th>BSF</th>\n",
       "      <th>BPFI</th>\n",
       "      <th>BPFO</th>\n",
       "    </tr>\n",
       "  </thead>\n",
       "  <tbody>\n",
       "    <tr>\n",
       "      <th>0</th>\n",
       "      <td>16.168329</td>\n",
       "      <td>24.709272</td>\n",
       "      <td>1.215670</td>\n",
       "      <td>21.290396</td>\n",
       "      <td>0.000000</td>\n",
       "      <td>0.000000</td>\n",
       "      <td>0.000000</td>\n",
       "      <td>3.967662</td>\n",
       "    </tr>\n",
       "    <tr>\n",
       "      <th>1</th>\n",
       "      <td>0.000000</td>\n",
       "      <td>0.000000</td>\n",
       "      <td>0.000000</td>\n",
       "      <td>0.000000</td>\n",
       "      <td>11.495007</td>\n",
       "      <td>6.055085</td>\n",
       "      <td>31.752478</td>\n",
       "      <td>0.000000</td>\n",
       "    </tr>\n",
       "    <tr>\n",
       "      <th>2</th>\n",
       "      <td>0.000000</td>\n",
       "      <td>0.000000</td>\n",
       "      <td>0.000000</td>\n",
       "      <td>0.000000</td>\n",
       "      <td>9.646771</td>\n",
       "      <td>4.272236</td>\n",
       "      <td>16.476646</td>\n",
       "      <td>2.908118</td>\n",
       "    </tr>\n",
       "    <tr>\n",
       "      <th>3</th>\n",
       "      <td>0.000000</td>\n",
       "      <td>0.000000</td>\n",
       "      <td>0.000000</td>\n",
       "      <td>0.000000</td>\n",
       "      <td>9.031956</td>\n",
       "      <td>1.263234</td>\n",
       "      <td>16.031963</td>\n",
       "      <td>3.160903</td>\n",
       "    </tr>\n",
       "    <tr>\n",
       "      <th>4</th>\n",
       "      <td>0.000000</td>\n",
       "      <td>0.000000</td>\n",
       "      <td>0.000000</td>\n",
       "      <td>0.000000</td>\n",
       "      <td>16.207857</td>\n",
       "      <td>1.182039</td>\n",
       "      <td>31.246140</td>\n",
       "      <td>1.556943</td>\n",
       "    </tr>\n",
       "    <tr>\n",
       "      <th>5</th>\n",
       "      <td>0.000000</td>\n",
       "      <td>53.601063</td>\n",
       "      <td>0.000000</td>\n",
       "      <td>12.896833</td>\n",
       "      <td>24.486925</td>\n",
       "      <td>0.000000</td>\n",
       "      <td>14.165020</td>\n",
       "      <td>38.751781</td>\n",
       "    </tr>\n",
       "    <tr>\n",
       "      <th>6</th>\n",
       "      <td>0.000000</td>\n",
       "      <td>0.000000</td>\n",
       "      <td>15.072379</td>\n",
       "      <td>0.000000</td>\n",
       "      <td>2.917202</td>\n",
       "      <td>17.383327</td>\n",
       "      <td>3.459067</td>\n",
       "      <td>0.000000</td>\n",
       "    </tr>\n",
       "    <tr>\n",
       "      <th>7</th>\n",
       "      <td>1.640632</td>\n",
       "      <td>22.069290</td>\n",
       "      <td>0.000000</td>\n",
       "      <td>13.019196</td>\n",
       "      <td>1.546020</td>\n",
       "      <td>0.000000</td>\n",
       "      <td>0.000000</td>\n",
       "      <td>10.440425</td>\n",
       "    </tr>\n",
       "  </tbody>\n",
       "</table>\n",
       "</div>"
      ],
      "text/plain": [
       "     Entropy   Variance        RMS         PP     Energy        BSF  \\\n",
       "0  16.168329  24.709272   1.215670  21.290396   0.000000   0.000000   \n",
       "1   0.000000   0.000000   0.000000   0.000000  11.495007   6.055085   \n",
       "2   0.000000   0.000000   0.000000   0.000000   9.646771   4.272236   \n",
       "3   0.000000   0.000000   0.000000   0.000000   9.031956   1.263234   \n",
       "4   0.000000   0.000000   0.000000   0.000000  16.207857   1.182039   \n",
       "5   0.000000  53.601063   0.000000  12.896833  24.486925   0.000000   \n",
       "6   0.000000   0.000000  15.072379   0.000000   2.917202  17.383327   \n",
       "7   1.640632  22.069290   0.000000  13.019196   1.546020   0.000000   \n",
       "\n",
       "        BPFI       BPFO  \n",
       "0   0.000000   3.967662  \n",
       "1  31.752478   0.000000  \n",
       "2  16.476646   2.908118  \n",
       "3  16.031963   3.160903  \n",
       "4  31.246140   1.556943  \n",
       "5  14.165020  38.751781  \n",
       "6   3.459067   0.000000  \n",
       "7   0.000000  10.440425  "
      ]
     },
     "execution_count": 18,
     "metadata": {},
     "output_type": "execute_result"
    }
   ],
   "source": [
    "y"
   ]
  },
  {
   "cell_type": "code",
   "execution_count": 19,
   "metadata": {},
   "outputs": [],
   "source": [
    "# predict validation data\n",
    "validationPredict = model.predict_classes(testX)"
   ]
  },
  {
   "cell_type": "code",
   "execution_count": 20,
   "metadata": {},
   "outputs": [],
   "source": [
    "def plot_confusion_matrix(y_true, y_pred, classes,\n",
    "                          normalize=False,\n",
    "                          title=None,\n",
    "                          cmap=plt.cm.Blues):\n",
    "    \"\"\"\n",
    "    This function prints and plots the confusion matrix.\n",
    "    Normalization can be applied by setting `normalize=True`.\n",
    "    \"\"\"\n",
    "    if not title:\n",
    "        if normalize:\n",
    "            title = 'Normalized confusion matrix'\n",
    "        else:\n",
    "            title = 'Confusion matrix, without normalization'\n",
    "\n",
    "    # Compute confusion matrix\n",
    "    cm = confusion_matrix(y_true, y_pred)\n",
    "    # Only use the labels that appear in the data\n",
    "    classes = classes[unique_labels(y_true, y_pred)]\n",
    "    if normalize:\n",
    "        cm = cm.astype('float') / cm.sum(axis=1)[:, np.newaxis]\n",
    "        print(\"Normalized confusion matrix\")\n",
    "    else:\n",
    "        print('Confusion matrix, without normalization')\n",
    "\n",
    "    print(cm)\n",
    "\n",
    "    fig, ax = plt.subplots(figsize=(10, 10))\n",
    "    im = ax.imshow(cm, interpolation='nearest', cmap=cmap)\n",
    "    ax.figure.colorbar(im, ax=ax)\n",
    "    # We want to show all ticks...\n",
    "    ax.set(xticks=np.arange(cm.shape[1]),\n",
    "           yticks=np.arange(cm.shape[0]),\n",
    "           # ... and label them with the respective list entries\n",
    "           xticklabels=classes, yticklabels=classes,\n",
    "           title=title,\n",
    "           ylabel='True label',\n",
    "           xlabel='Predicted label')\n",
    "    \n",
    "    # Rotate the tick labels and set their alignment.\n",
    "    plt.setp(ax.get_xticklabels(), rotation=45, ha=\"right\",\n",
    "             rotation_mode=\"anchor\")\n",
    "    \n",
    "    # Loop over data dimensions and create text annotations.\n",
    "    fmt = '.2f' if normalize else 'd'\n",
    "    thresh = cm.max() / 2.\n",
    "    for i in range(cm.shape[0]):\n",
    "        for j in range(cm.shape[1]):\n",
    "            ax.text(j, i, format(cm[i, j], fmt),\n",
    "                    ha=\"center\", va=\"center\",\n",
    "                    color=\"white\" if cm[i, j] > thresh else \"black\")\n",
    "    fig.tight_layout()\n",
    "    return ax"
   ]
  },
  {
   "cell_type": "code",
   "execution_count": 21,
   "metadata": {},
   "outputs": [
    {
     "name": "stdout",
     "output_type": "stream",
     "text": [
      "Normalized confusion matrix\n",
      "[[1.       0.       0.       0.       0.       0.       0.       0.      ]\n",
      " [0.       1.       0.       0.       0.       0.       0.       0.      ]\n",
      " [0.       0.       0.71875  0.       0.       0.28125  0.       0.      ]\n",
      " [0.       0.       0.       1.       0.       0.       0.       0.      ]\n",
      " [0.       0.       0.       0.       0.984375 0.015625 0.       0.      ]\n",
      " [0.       0.       0.       0.       0.       1.       0.       0.      ]\n",
      " [0.       0.       0.       0.       0.       0.       1.       0.      ]\n",
      " [0.       0.       0.       0.       0.       0.       0.       1.      ]]\n"
     ]
    },
    {
     "data": {
      "text/plain": [
       "<matplotlib.axes._subplots.AxesSubplot at 0x131420f60>"
      ]
     },
     "execution_count": 21,
     "metadata": {},
     "output_type": "execute_result"
    },
    {
     "data": {
      "text/plain": [
       "<Figure size 7200x7200 with 0 Axes>"
      ]
     },
     "metadata": {},
     "output_type": "display_data"
    },
    {
     "data": {
      "image/png": "[encoded data removed]",
      "text/plain": [
       "<Figure size 720x720 with 2 Axes>"
      ]
     },
     "metadata": {
      "needs_background": "light"
     },
     "output_type": "display_data"
    }
   ],
   "source": [
    "plt.figure(figsize=(100,100))\n",
    "plot_confusion_matrix(validationDataframe[\"Condition\"].values,\n",
    "                      validationPredict,\n",
    "                      normalize = True,\n",
    "                      classes = np.array([\"0\", \"1\", \"2\", \"3\", \"4\", \"5\", \"6\", \"7\"]))"
   ]
  },
  {
   "cell_type": "code",
   "execution_count": null,
   "metadata": {},
   "outputs": [],
   "source": []
  },
  {
   "cell_type": "code",
   "execution_count": null,
   "metadata": {},
   "outputs": [],
   "source": []
  }
 ],
 "metadata": {
  "kernelspec": {
   "display_name": "tensorflow",
   "language": "python",
   "name": "tensorflow"
  },
  "language_info": {
   "codemirror_mode": {
    "name": "ipython",
    "version": 3
   },
   "file_extension": ".py",
   "mimetype": "text/x-python",
   "name": "python",
   "nbconvert_exporter": "python",
   "pygments_lexer": "ipython3",
   "version": "3.6.4"
  }
 },
 "nbformat": 4,
 "nbformat_minor": 2
}
